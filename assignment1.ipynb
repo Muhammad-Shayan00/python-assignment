{
 "cells": [
  {
   "cell_type": "markdown",
   "id": "b76e8819",
   "metadata": {},
   "source": [
    "Q1: Print Your Name with your Father Name and Date of Birth using escape sequence characters"
   ]
  },
  {
   "cell_type": "code",
   "execution_count": 1,
   "id": "1eb20bfd",
   "metadata": {},
   "outputs": [
    {
     "name": "stdout",
     "output_type": "stream",
     "text": [
      "Name:\tMuhammad Shayan\n",
      "Father's Name:\tMushtaq javed\n",
      "Date of Birth:\t15\\08\\2005\n"
     ]
    }
   ],
   "source": [
    "\n",
    "print(\"Name:\\tMuhammad Shayan\\nFather's Name:\\tMushtaq javed\\nDate of Birth:\\t15\\\\08\\\\2005\")\n"
   ]
  },
  {
   "cell_type": "markdown",
   "id": "96097345",
   "metadata": {},
   "source": [
    "Q2: Write your small bio using variables and print it"
   ]
  },
  {
   "cell_type": "code",
   "execution_count": 2,
   "id": "481ddf89",
   "metadata": {},
   "outputs": [
    {
     "name": "stdout",
     "output_type": "stream",
     "text": [
      "My name is Ali Ahmed. I am 20 years old.\n",
      "I am currently pursuing B.E. in Computer System Engineering.\n",
      "My hobbies are Gym and Programming.\n"
     ]
    }
   ],
   "source": [
    "name = \"Ali Ahmed\"\n",
    "age = 20\n",
    "education = \"B.E. in Computer System Engineering\"\n",
    "hobby = \"Gym and Programming\"\n",
    "\n",
    "print(\"My name is\", name + \". I am\", age, \"years old.\")\n",
    "print(\"I am currently pursuing\", education + \".\")\n",
    "print(\"My hobbies are\", hobby + \".\")"
   ]
  },
  {
   "cell_type": "markdown",
   "id": "66a6a3f6",
   "metadata": {},
   "source": [
    "Q3: Write a program using all types of operators"
   ]
  },
  {
   "cell_type": "code",
   "execution_count": null,
   "id": "2e2c9b3c",
   "metadata": {},
   "outputs": [],
   "source": [
    "a = 10\n",
    "b = 3\n",
    "\n",
    "# Arithmetic Operators\n",
    "print(\"Addition:\", a + b)\n",
    "print(\"Subtraction:\", a - b)\n",
    "print(\"Multiplication:\", a * b)\n",
    "print(\"Division:\", a / b)\n",
    "print(\"Floor Division:\", a // b)\n",
    "print(\"Modulus:\", a % b)\n",
    "print(\"Exponent:\", a ** b)\n",
    "\n",
    "# Comparison Operators\n",
    "print(\"a == b:\", a == b)\n",
    "print(\"a != b:\", a != b)\n",
    "print(\"a > b:\", a > b)\n",
    "print(\"a < b:\", a < b)\n",
    "print(\"a >= b:\", a >= b)\n",
    "print(\"a <= b:\", a <= b)\n",
    "\n",
    "# Logical Operators\n",
    "x = True\n",
    "y = False\n",
    "print(\"x and y:\", x and y)\n",
    "print(\"x or y:\", x or y)\n",
    "print(\"not x:\", not x)\n",
    "\n",
    "# Assignment Operators\n",
    "a += 2\n",
    "print(\"After a += 2:\", a)\n",
    "a *= 2\n",
    "print(\"After a *= 2:\", a)\n",
    "\n",
    "# Bitwise Operators\n",
    "print(\"a & b:\", a & b)\n",
    "print(\"a | b:\", a | b)\n",
    "print(\"a ^ b:\", a ^ b)\n",
    "print(\"~a:\", ~a)\n",
    "print(\"a << 1:\", a << 1)\n",
    "print(\"a >> 1:\", a >> 1)"
   ]
  },
  {
   "cell_type": "markdown",
   "id": "eba7439b",
   "metadata": {},
   "source": [
    "Q4: Marks, Total, and Percentage Calculation"
   ]
  },
  {
   "cell_type": "code",
   "execution_count": null,
   "id": "6a8dabbc",
   "metadata": {},
   "outputs": [],
   "source": [
    "english = 85\n",
    "islamiat = 90\n",
    "maths = 95\n",
    "total_marks = 300\n",
    "\n",
    "obtained_marks = english + islamiat + maths\n",
    "percentage = (obtained_marks / total_marks) * 100\n",
    "\n",
    "print(\"Obtained Marks:\", obtained_marks, \"/\", total_marks)\n",
    "print(\"Percentage:\", percentage, \"%\")"
   ]
  }
 ],
 "metadata": {
  "kernelspec": {
   "display_name": "base",
   "language": "python",
   "name": "python3"
  },
  "language_info": {
   "codemirror_mode": {
    "name": "ipython",
    "version": 3
   },
   "file_extension": ".py",
   "mimetype": "text/x-python",
   "name": "python",
   "nbconvert_exporter": "python",
   "pygments_lexer": "ipython3",
   "version": "3.13.5"
  }
 },
 "nbformat": 4,
 "nbformat_minor": 5
}
