{
  "cells": [
    {
      "cell_type": "markdown",
      "metadata": {
        "id": "XLFr4w_7OFN7"
      },
      "source": [
        "1. Write a Python program to create a class representing a Circle. Include methods to calculate its area and perimeter."
      ]
    },
    {
      "cell_type": "code",
      "execution_count": null,
      "metadata": {},
      "outputs": [],
      "source": [
        "class Circle:\n",
        "    def __init__(self, radius):\n",
        "        self.radius = radius\n",
        "\n",
        "    def area(self):\n",
        "        return 3.14159 * self.radius ** 2\n",
        "\n",
        "    def perimeter(self):\n",
        "        return 2 * 3.14159 * self.radius\n",
        "\n",
        "\n",
        "r = float(input(\"Enter the radius of the circle: \"))\n",
        "circle = Circle(r)\n",
        "\n",
        "print(\"Area of Circle:\", circle.area())\n",
        "print(\"Perimeter of Circle:\", circle.perimeter())"
      ]
    },
    {
      "cell_type": "markdown",
      "metadata": {
        "id": "CBPk4mH4OTCO"
      },
      "source": [
        "2. Write a Python program to create a person class. Include attributes like name, country and date of birth. Implement a method to determine the person's age.\n"
      ]
    },
    {
      "cell_type": "code",
      "execution_count": null,
      "metadata": {},
      "outputs": [],
      "source": [
        "from datetime import date, datetime\n",
        "\n",
        "class Person:\n",
        "    def __init__(self, name, country, dob):\n",
        "        self.name = name\n",
        "        self.country = country\n",
        "        self.dob = datetime.strptime(dob, \"%Y-%m-%d\").date()  # Format: YYYY-MM-DD\n",
        "\n",
        "    def calculate_age(self):\n",
        "        today = date.today()\n",
        "        age = today.year - self.dob.year\n",
        "        # Adjust if birthday hasn't occurred yet this year\n",
        "        if (today.month, today.day) < (self.dob.month, self.dob.day):\n",
        "            age -= 1\n",
        "        return age\n",
        "\n",
        "\n",
        "# --- Main Program ---\n",
        "name = input(\"Enter your name: \")\n",
        "country = input(\"Enter your country: \")\n",
        "dob = input(\"Enter your date of birth (YYYY-MM-DD): \")\n",
        "\n",
        "person = Person(name, country, dob)\n",
        "print(f\"\\nName: {person.name}\")\n",
        "print(f\"Country: {person.country}\")\n",
        "print(f\"Age: {person.calculate_age()} years\")\n"
      ]
    },
    {
      "cell_type": "markdown",
      "metadata": {},
      "source": [
        "3. Write a Python program to create a calculator class. Include methods for basic arithmetic operations."
      ]
    },
    {
      "cell_type": "code",
      "execution_count": null,
      "metadata": {},
      "outputs": [],
      "source": [
        "class Calculator:\n",
        "    # Method for addition\n",
        "    def add(self, a, b):\n",
        "        return a + b\n",
        "\n",
        "    # Method for subtraction\n",
        "    def subtract(self, a, b):\n",
        "        return a - b\n",
        "\n",
        "    # Method for multiplication\n",
        "    def multiply(self, a, b):\n",
        "        return a * b\n",
        "\n",
        "    # Method for division\n",
        "    def divide(self, a, b):\n",
        "        if b == 0:\n",
        "            return \"Error! Division by zero is not allowed.\"\n",
        "        return a / b\n",
        "\n",
        "\n",
        "# --- Main Program ---\n",
        "calc = Calculator()\n",
        "\n",
        "print(\"Basic Calculator\")\n",
        "num1 = float(input(\"Enter first number: \"))\n",
        "num2 = float(input(\"Enter second number: \"))\n",
        "\n",
        "print(\"\\nSelect operation:\")\n",
        "print(\"1. Addition\")\n",
        "print(\"2. Subtraction\")\n",
        "print(\"3. Multiplication\")\n",
        "print(\"4. Division\")\n",
        "\n",
        "choice = input(\"\\nEnter choice (1-4): \")\n",
        "\n",
        "if choice == '1':\n",
        "    print(f\"Result: {calc.add(num1, num2)}\")\n",
        "elif choice == '2':\n",
        "    print(f\"Result: {calc.subtract(num1, num2)}\")\n",
        "elif choice == '3':\n",
        "    print(f\"Result: {calc.multiply(num1, num2)}\")\n",
        "elif choice == '4':\n",
        "    print(f\"Result: {calc.divide(num1, num2)}\")\n",
        "else:\n",
        "    print(\"Invalid choice!\")\n"
      ]
    }
  ],
  "metadata": {
    "colab": {
      "provenance": []
    },
    "kernelspec": {
      "display_name": "Python 3",
      "name": "python3"
    },
    "language_info": {
      "codemirror_mode": {
        "name": "ipython",
        "version": 3
      },
      "file_extension": ".py",
      "mimetype": "text/x-python",
      "name": "python",
      "nbconvert_exporter": "python",
      "pygments_lexer": "ipython3",
      "version": "3.12.4"
    }
  },
  "nbformat": 4,
  "nbformat_minor": 0
}
