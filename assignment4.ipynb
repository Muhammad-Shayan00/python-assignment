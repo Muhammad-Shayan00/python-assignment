{
 "cells": [
  {
   "cell_type": "markdown",
   "id": "3583c3d3",
   "metadata": {},
   "source": [
    "1. Write a program that accepts a list from user and print the alternate element of list."
   ]
  },
  {
   "cell_type": "code",
   "execution_count": null,
   "id": "c07fc201",
   "metadata": {},
   "outputs": [],
   "source": [
    "lst = input(\"Enter elements of list separated by spaces: \").split()\n",
    "print(\"Alternate elements of list are:\")\n",
    "for i in range(0, len(lst), 2):\n",
    "    print(lst[i])"
   ]
  },
  {
   "cell_type": "markdown",
   "id": "5312a0cc",
   "metadata": {},
   "source": [
    "\n",
    "2. Write a program that accepts a list from user. Your program should reverse the content of list and \n",
    "display it. Do not use reverse() method.  "
   ]
  },
  {
   "cell_type": "code",
   "execution_count": null,
   "id": "16918d62",
   "metadata": {},
   "outputs": [],
   "source": [
    "lst = input(\"Enter elements of list separated by spaces: \").split()\n",
    "reversed_list = []\n",
    "\n",
    "for i in range(len(lst) - 1, -1, -1):\n",
    "    reversed_list.append(lst[i])\n",
    "\n",
    "print(\"Reversed list:\", reversed_list)"
   ]
  },
  {
   "cell_type": "markdown",
   "id": "9e6d7b33",
   "metadata": {},
   "source": [
    " \n",
    "3. Find and display the largest number of a list without using built-in function max(). Your program \n",
    "should ask the user to input values in list from keyboard.  "
   ]
  },
  {
   "cell_type": "code",
   "execution_count": null,
   "id": "c5625b87",
   "metadata": {},
   "outputs": [],
   "source": [
    "lst = [int(x) for x in input(\"Enter numbers separated by spaces: \").split()]\n",
    "\n",
    "largest = lst[0]\n",
    "for num in lst:\n",
    "    if num > largest:\n",
    "        largest = num\n",
    "\n",
    "print(\"Largest number in the list is:\", largest)"
   ]
  },
  {
   "cell_type": "markdown",
   "id": "4db6bd8c",
   "metadata": {},
   "source": [
    "4. Write a program that rotates the element of a list so that the element at the first index moves to the \n",
    "second index, the element in the second index moves to the third index, etc., and the element in the last \n",
    "index moves to the first index. "
   ]
  },
  {
   "cell_type": "code",
   "execution_count": null,
   "id": "4d0d652a",
   "metadata": {},
   "outputs": [],
   "source": [
    "lst = input(\"Enter elements of list separated by spaces: \").split()\n",
    "\n",
    "rotated_list = [lst[-1]] + lst[:-1]\n",
    "\n",
    "print(\"Rotated list:\", rotated_list)"
   ]
  },
  {
   "cell_type": "markdown",
   "id": "56c263ef",
   "metadata": {},
   "source": [
    "5. Write a program that input a string and ask user to delete a given word from a string."
   ]
  },
  {
   "cell_type": "code",
   "execution_count": null,
   "id": "8321f334",
   "metadata": {},
   "outputs": [],
   "source": [
    "string = input(\"Enter a string: \")\n",
    "word_to_delete = input(\"Enter the word to delete: \")\n",
    "\n",
    "new_string = string.replace(word_to_delete, \"\")\n",
    "print(\"String after deletion:\", new_string.strip())"
   ]
  },
  {
   "cell_type": "markdown",
   "id": "79a2cdaf",
   "metadata": {},
   "source": [
    "6. Write a program that reads a string from the user containing a date in the form mm/dd/yyyy. It \n",
    "should print the date in the form March 12, 2021. "
   ]
  },
  {
   "cell_type": "code",
   "execution_count": null,
   "id": "c1ad0972",
   "metadata": {},
   "outputs": [],
   "source": [
    "date = input(\"Enter date in mm/dd/yyyy format: \")\n",
    "months = [\"January\", \"February\", \"March\", \"April\", \"May\", \"June\",\n",
    "          \"July\", \"August\", \"September\", \"October\", \"November\", \"December\"]\n",
    "\n",
    "month, day, year = date.split(\"/\")\n",
    "month_name = months[int(month) - 1]\n",
    "\n",
    "print(\"Formatted date:\", f\"{month_name} {int(day)}, {year}\")"
   ]
  },
  {
   "cell_type": "markdown",
   "id": "1602588a",
   "metadata": {},
   "source": [
    "7. Write a program with a function that accepts a string from keyboard and create a new string after \n",
    "converting character of each word capitalized. For instance, if the sentence is \"stop and smell the roses.\" \n",
    "the output should be \"Stop And Smell The Roses\""
   ]
  },
  {
   "cell_type": "code",
   "execution_count": null,
   "id": "0bbae6c9",
   "metadata": {},
   "outputs": [],
   "source": [
    "sentence = input(\"Enter a sentence: \")\n",
    "words = sentence.split()\n",
    "new_sentence = \"\"\n",
    "\n",
    "for word in words:\n",
    "    new_sentence += word[0].upper() + word[1:].lower() + \" \"\n",
    "\n",
    "print(\"Capitalized sentence:\", new_sentence.strip())"
   ]
  },
  {
   "cell_type": "markdown",
   "id": "149a5b1b",
   "metadata": {},
   "source": [
    "8. Find the sum of each row of matrix of size m x n. For example for the following matrix output will be \n",
    "like this : \n",
    "Sum of row 1 = 32 \n",
    "Sum of row 2 = 31 \n",
    "Sum of row 3 = 63 "
   ]
  },
  {
   "cell_type": "code",
   "execution_count": null,
   "id": "c92e7a8d",
   "metadata": {},
   "outputs": [],
   "source": [
    "m = int(input(\"Enter number of rows: \"))\n",
    "n = int(input(\"Enter number of columns: \"))\n",
    "\n",
    "matrix = []\n",
    "for i in range(m):\n",
    "    row = [int(x) for x in input(f\"Enter elements of row {i+1}: \").split()]\n",
    "    matrix.append(row)\n",
    "\n",
    "for i in range(m):\n",
    "    row_sum = 0\n",
    "    for j in range(n):\n",
    "        row_sum += matrix[i][j]\n",
    "    print(f\"Sum of row {i+1} =\", row_sum)"
   ]
  },
  {
   "cell_type": "markdown",
   "id": "7c7dddfa",
   "metadata": {},
   "source": [
    "9. Write a program to add two matrices of size n x m. "
   ]
  },
  {
   "cell_type": "code",
   "execution_count": null,
   "id": "9052e7a7",
   "metadata": {},
   "outputs": [],
   "source": [
    "rows = int(input(\"Enter number of rows: \"))\n",
    "cols = int(input(\"Enter number of columns: \"))\n",
    "\n",
    "print(\"Enter elements of first matrix:\")\n",
    "A = [[int(x) for x in input().split()] for _ in range(rows)]\n",
    "\n",
    "print(\"Enter elements of second matrix:\")\n",
    "B = [[int(x) for x in input().split()] for _ in range(rows)]\n",
    "\n",
    "# Sum of matrices\n",
    "result = []\n",
    "for i in range(rows):\n",
    "    row = []\n",
    "    for j in range(cols):\n",
    "        row.append(A[i][j] + B[i][j])\n",
    "    result.append(row)\n",
    "\n",
    "print(\"Sum of two matrices:\")\n",
    "for r in result:\n",
    "    print(r)"
   ]
  },
  {
   "cell_type": "markdown",
   "id": "0bf7d9ff",
   "metadata": {},
   "source": [
    " \n",
    "10. Write a program to multiply two matrices "
   ]
  },
  {
   "cell_type": "code",
   "execution_count": null,
   "id": "1c52fd5d",
   "metadata": {},
   "outputs": [],
   "source": [
    "r1 = int(input(\"Enter number of rows for first matrix: \"))\n",
    "c1 = int(input(\"Enter number of columns for first matrix: \"))\n",
    "r2 = int(input(\"Enter number of rows for second matrix: \"))\n",
    "c2 = int(input(\"Enter number of columns for second matrix: \"))\n",
    "\n",
    "if c1 != r2:\n",
    "    print(\"Matrix multiplication not possible! (columns of first != rows of second)\")\n",
    "else:\n",
    "    print(\"Enter elements of first matrix:\")\n",
    "    A = [[int(x) for x in input().split()] for _ in range(r1)]\n",
    "\n",
    "    print(\"Enter elements of second matrix:\")\n",
    "    B = [[int(x) for x in input().split()] for _ in range(r2)]\n",
    "\n",
    "    # Initialize result matrix\n",
    "    result = [[0 for _ in range(c2)] for _ in range(r1)]\n",
    "\n",
    "    # Multiply\n",
    "    for i in range(r1):\n",
    "        for j in range(c2):\n",
    "            for k in range(c1):\n",
    "                result[i][j] += A[i][k] * B[k][j]\n",
    "\n",
    "    print(\"Resultant Matrix after multiplication:\")\n",
    "    for row in result:\n",
    "        print(row)"
   ]
  }
 ],
 "metadata": {
  "language_info": {
   "name": "python"
  }
 },
 "nbformat": 4,
 "nbformat_minor": 5
}
