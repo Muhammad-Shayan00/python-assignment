{
 "cells": [
  {
   "cell_type": "markdown",
   "id": "d94c75df",
   "metadata": {},
   "source": [
    "1. Write a program that accepts a string from user. Your program should count and display number of \n",
    "vowels in that string.  "
   ]
  },
  {
   "cell_type": "code",
   "execution_count": null,
   "id": "e243b808",
   "metadata": {},
   "outputs": [],
   "source": [
    "string = input(\"Enter a string: \")\n",
    "vowels = \"AEIOUaeiou\"\n",
    "count = 0\n",
    "\n",
    "for ch in string:\n",
    "    if ch in vowels:\n",
    "        count += 1\n",
    "\n",
    "print(\"Number of vowels in the string:\", count)\n"
   ]
  },
  {
   "cell_type": "markdown",
   "id": "d71de45b",
   "metadata": {},
   "source": [
    "2. Write a program that reads a string from keyboard and display: \n",
    "* The number of uppercase letters in the string \n",
    "* The number of lowercase letters in the string \n",
    "* The number of digits in the string \n",
    "* The number of whitespace characters in the string  "
   ]
  },
  {
   "cell_type": "code",
   "execution_count": null,
   "id": "a2323438",
   "metadata": {},
   "outputs": [],
   "source": [
    "string = input(\"Enter a string: \")\n",
    "\n",
    "upper = lower = digit = space = 0\n",
    "\n",
    "for ch in string:\n",
    "    if ch.isupper():\n",
    "        upper += 1\n",
    "    elif ch.islower():\n",
    "        lower += 1\n",
    "    elif ch.isdigit():\n",
    "        digit += 1\n",
    "    elif ch.isspace():\n",
    "        space += 1\n",
    "\n",
    "print(\"Uppercase letters:\", upper)\n",
    "print(\"Lowercase letters:\", lower)\n",
    "print(\"Digits:\", digit)\n",
    "print(\"Whitespace characters:\", space)"
   ]
  },
  {
   "cell_type": "markdown",
   "id": "8b2b7006",
   "metadata": {},
   "source": [
    "3. Write a Python program that accepts a string from user. Your program should create and display a \n",
    "new string where the first and last characters have been exchanged."
   ]
  },
  {
   "cell_type": "code",
   "execution_count": null,
   "id": "49a6b4b3",
   "metadata": {},
   "outputs": [],
   "source": [
    "string = input(\"Enter a string: \")\n",
    "\n",
    "if len(string) <= 1:\n",
    "    new_string = string\n",
    "else:\n",
    "    new_string = string[-1] + string[1:-1] + string[0]\n",
    "\n",
    "print(\"New string:\", new_string)"
   ]
  },
  {
   "cell_type": "markdown",
   "id": "82d535a1",
   "metadata": {},
   "source": [
    "4. Write a Python program that accepts a string from user. Your program should create a new string in \n",
    "reverse of first string and display it."
   ]
  },
  {
   "cell_type": "code",
   "execution_count": null,
   "id": "1aabe4fa",
   "metadata": {},
   "outputs": [],
   "source": [
    "string = input(\"Enter a string: \")\n",
    "\n",
    "reverse_string = \"\"\n",
    "for ch in string:\n",
    "    reverse_string = ch + reverse_string\n",
    "\n",
    "print(\"Reversed string:\", reverse_string)"
   ]
  },
  {
   "cell_type": "markdown",
   "id": "b5cce966",
   "metadata": {},
   "source": [
    "5. Write a Python program that accepts a string from user. Your program should create a new string by \n",
    "shifting one position to left. "
   ]
  },
  {
   "cell_type": "code",
   "execution_count": null,
   "id": "77369628",
   "metadata": {},
   "outputs": [],
   "source": [
    "\n",
    "string = input(\"Enter a string: \")\n",
    "\n",
    "if len(string) > 1:\n",
    "    new_string = string[1:] + string[0]\n",
    "else:\n",
    "    new_string = string\n",
    "\n",
    "print(\"Shifted string:\", new_string)"
   ]
  },
  {
   "cell_type": "markdown",
   "id": "c6f649f0",
   "metadata": {},
   "source": [
    "6. Write a program that asks the user to input his name and print its initials. Assuming that the user \n",
    "always types first name, middle name and last name and does not include any unnecessary spaces."
   ]
  },
  {
   "cell_type": "code",
   "execution_count": null,
   "id": "2e755e2d",
   "metadata": {},
   "outputs": [],
   "source": [
    "name = input(\"Enter your full name (First Middle Last): \")\n",
    "\n",
    "initials = name[0].upper() + \". \"\n",
    "\n",
    "for i in range(1, len(name)):\n",
    "    if name[i - 1] == \" \" and name[i] != \" \":\n",
    "        initials += name[i].upper() + \". \"\n",
    "\n",
    "print(\"Your initials are:\", initials)"
   ]
  },
  {
   "cell_type": "markdown",
   "id": "e99c94df",
   "metadata": {},
   "source": [
    "7.A palindrome is a string that reads the same backward as forward. For example, the words dad, \n",
    "madam and radar are all palindromes. Write a programs that determines whether the string is a \n",
    "palindrome. "
   ]
  },
  {
   "cell_type": "code",
   "execution_count": null,
   "id": "fe2adc74",
   "metadata": {},
   "outputs": [],
   "source": [
    "string = input(\"Enter a string: \")\n",
    "\n",
    "reversed_str = \"\"\n",
    "for ch in string:\n",
    "    reversed_str = ch + reversed_str\n",
    "\n",
    "if string == reversed_str:\n",
    "    print(\"The string is a palindrome.\")\n",
    "else:\n",
    "    print(\"The string is not a palindrome.\")"
   ]
  },
  {
   "cell_type": "markdown",
   "id": "5d77a537",
   "metadata": {},
   "source": [
    "8. Write a program that display following output: \n",
    "SHIFT \n",
    "HIFTS \n",
    "IFTSH \n",
    "FTSHI \n",
    "TSHIF \n",
    "SHIFT "
   ]
  },
  {
   "cell_type": "code",
   "execution_count": null,
   "id": "be2d3fdc",
   "metadata": {},
   "outputs": [],
   "source": [
    "word = \"SHIFT\"\n",
    "length = len(word)\n",
    "\n",
    "for i in range(length + 1):\n",
    "    print(word)\n",
    "    word = word[1:] + word[0]"
   ]
  },
  {
   "cell_type": "markdown",
   "id": "9668b917",
   "metadata": {},
   "source": [
    "9. Write a program in python that accepts a string to setup a passwords. Your entered password must \n",
    "meet the following requirements: \n",
    "The password must be at least eight characters long. \n",
    "It must contain at least one uppercase letter. \n",
    "It must contain at least one lowercase letter. \n",
    "It must contain at least one numeric digit. \n",
    "Your program should should perform this validation.  "
   ]
  },
  {
   "cell_type": "code",
   "execution_count": null,
   "id": "de4bb4af",
   "metadata": {},
   "outputs": [],
   "source": [
    "password = input(\"Enter a password: \")\n",
    "\n",
    "has_upper = False\n",
    "has_lower = False\n",
    "has_digit = False\n",
    "\n",
    "if len(password) >= 8:\n",
    "    for ch in password:\n",
    "        if ch.isupper():\n",
    "            has_upper = True\n",
    "        elif ch.islower():\n",
    "            has_lower = True\n",
    "        elif ch.isdigit():\n",
    "            has_digit = True\n",
    "\n",
    "    if has_upper and has_lower and has_digit:\n",
    "        print(\"Password is valid ✅\")\n",
    "    else:\n",
    "        print(\"Password must contain at least one uppercase letter, one lowercase letter, and one digit.\")\n",
    "else:\n",
    "    print(\"Password must be at least 8 characters long.\")"
   ]
  }
 ],
 "metadata": {
  "language_info": {
   "name": "python"
  }
 },
 "nbformat": 4,
 "nbformat_minor": 5
}
