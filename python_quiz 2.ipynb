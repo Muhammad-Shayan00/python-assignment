{
 "cells": [
  {
   "cell_type": "markdown",
   "id": "c8e48837-e3ea-4e83-8d09-bbe6df1f5e53",
   "metadata": {},
   "source": [
    "### Scenario 1"
   ]
  },
  {
   "cell_type": "code",
   "execution_count": 5,
   "id": "389cd09b-e20e-4aa4-b10d-3d93aa71f916",
   "metadata": {},
   "outputs": [
    {
     "name": "stdout",
     "output_type": "stream",
     "text": [
      "Error: Invalid grade for Grace: 'Invalid Grade'\n",
      "\n",
      "Average Grade of Valid Students: 84.17\n"
     ]
    }
   ],
   "source": [
    "class InvalidGradeError(Exception):\n",
    "    pass\n",
    "def read_student_records(filename):\n",
    "    try:\n",
    "        with open(filename, 'r') as file:\n",
    "            lines = file.readlines()\n",
    "    except FileNotFoundError:\n",
    "        print(f\"Error: The file '{filename}' was not found.\")\n",
    "        return None\n",
    "    return lines\n",
    "def calculate_average_grade(lines):\n",
    "    total = 0\n",
    "    count = 0\n",
    "    for line in lines:\n",
    "        try:\n",
    "            name, grade_str = line.strip().split(',')\n",
    "            name = name.strip()\n",
    "            grade_str = grade_str.strip()\n",
    "            if not grade_str.isdigit():\n",
    "                raise InvalidGradeError(f\"Invalid grade for {name}: '{grade_str}'\")\n",
    "            grade = float(grade_str)\n",
    "            total += grade\n",
    "            count += 1\n",
    "        except InvalidGradeError as e:\n",
    "            print(\"Error:\", e)\n",
    "        except ValueError:\n",
    "            print(f\"Error: Invalid record format -> '{line.strip()}'\")\n",
    "    if count == 0:\n",
    "        print(\"No valid grades found.\")\n",
    "        return None\n",
    "    average = total / count\n",
    "    return average\n",
    "filename = \"student records.txt\"\n",
    "records = read_student_records(filename)\n",
    "if records:\n",
    "    average = calculate_average_grade(records)\n",
    "    if average is not None:\n",
    "        print(f\"\\nAverage Grade of Valid Students: {average:.2f}\")"
   ]
  },
  {
   "cell_type": "markdown",
   "id": "63a3f068-bb92-4561-aa1e-a76331698b75",
   "metadata": {},
   "source": [
    "### Scenario 2"
   ]
  },
  {
   "cell_type": "code",
   "execution_count": 7,
   "id": "4e53868b-057d-40cd-a67f-91b27c0c3fae",
   "metadata": {},
   "outputs": [
    {
     "name": "stdout",
     "output_type": "stream",
     "text": [
      "Welcome to Vehicle Management System\n",
      "Choose Vehicle Type:\n",
      "1. Car\n",
      "2. Truck\n",
      "3. Motorcycle\n"
     ]
    },
    {
     "name": "stdin",
     "output_type": "stream",
     "text": [
      "Enter your choice (1-3):  1\n",
      "Enter vehicle make:  honda\n",
      "Enter vehicle model:  city\n",
      "Enter vehicle year:  2024\n",
      "Enter number of doors:  4\n"
     ]
    },
    {
     "name": "stdout",
     "output_type": "stream",
     "text": [
      "\n",
      "Vehicle Information\n",
      "Make: honda, Model: city, Year: 2024\n",
      "Number of Doors: 4\n",
      "honda city engine started.\n",
      "honda city is accelerating smoothly!\n",
      "honda city engine stopped.\n"
     ]
    }
   ],
   "source": [
    "class Vehicle:\n",
    "    def __init__(self, make, model, year):\n",
    "        self.make = make\n",
    "        self.model = model\n",
    "        self.year = year\n",
    "    def start_engine(self):\n",
    "        print(f\"{self.make} {self.model} engine started.\")\n",
    "    def stop_engine(self):\n",
    "        print(f\"{self.make} {self.model} engine stopped.\")\n",
    "    def display_info(self):\n",
    "        print(f\"Make: {self.make}, Model: {self.model}, Year: {self.year}\")\n",
    "class Car(Vehicle):\n",
    "    def __init__(self, make, model, year, doors):\n",
    "        super().__init__(make, model, year)\n",
    "        self.doors = doors\n",
    "    def display_info(self):\n",
    "        super().display_info()\n",
    "        print(f\"Number of Doors: {self.doors}\")\n",
    "    def accelerate(self):\n",
    "        print(f\"{self.make} {self.model} is accelerating smoothly!\")\n",
    "class Truck(Vehicle):\n",
    "    def __init__(self, make, model, year, cargo_capacity):\n",
    "        super().__init__(make, model, year)\n",
    "        self.cargo_capacity = cargo_capacity\n",
    "\n",
    "    def display_info(self):\n",
    "        super().display_info()\n",
    "        print(f\"Cargo Capacity: {self.cargo_capacity} tons\")\n",
    "    def load_cargo(self):\n",
    "        print(f\"{self.make} {self.model} is loading cargo.\")\n",
    "class Motorcycle(Vehicle):\n",
    "    def __init__(self, make, model, year, drive_type):\n",
    "        super().__init__(make, model, year)\n",
    "        self.drive_type = drive_type\n",
    "\n",
    "    def display_info(self):\n",
    "        super().display_info()\n",
    "        print(f\"Drive Type: {self.drive_type}\")\n",
    "\n",
    "    def wheelie(self):\n",
    "        print(f\"{self.make} {self.model} is performing a wheelie!\")\n",
    "print(\"Welcome to Vehicle Management System\")\n",
    "print(\"Choose Vehicle Type:\")\n",
    "print(\"1. Car\")\n",
    "print(\"2. Truck\")\n",
    "print(\"3. Motorcycle\")\n",
    "choice = input(\"Enter your choice (1-3): \")\n",
    "make = input(\"Enter vehicle make: \")\n",
    "model = input(\"Enter vehicle model: \")\n",
    "year = input(\"Enter vehicle year: \")\n",
    "if choice == \"1\":\n",
    "    doors = input(\"Enter number of doors: \")\n",
    "    vehicle = Car(make, model, year, doors)\n",
    "elif choice == \"2\":\n",
    "    cargo_capacity = input(\"Enter cargo capacity (in tons): \")\n",
    "    vehicle = Truck(make, model, year, cargo_capacity)\n",
    "elif choice == \"3\":\n",
    "    drive_type = input(\"Enter drive type (e.g., Chain Drive, Belt Drive): \")\n",
    "    vehicle = Motorcycle(make, model, year, drive_type)\n",
    "else:\n",
    "    print(\"Invalid choice! Exiting program.\")\n",
    "    exit()\n",
    "print(\"\\nVehicle Information\")\n",
    "vehicle.display_info()\n",
    "vehicle.start_engine()\n",
    "if isinstance(vehicle, Car):\n",
    "    vehicle.accelerate()\n",
    "elif isinstance(vehicle, Truck):\n",
    "    vehicle.load_cargo()\n",
    "elif isinstance(vehicle, Motorcycle):\n",
    "    vehicle.wheelie()\n",
    "vehicle.stop_engine()"
   ]
  },
  {
   "cell_type": "markdown",
   "id": "2397ec24-e357-4ed5-b4fd-62b620bc4bd7",
   "metadata": {},
   "source": [
    "### Scenario 3"
   ]
  },
  {
   "cell_type": "code",
   "execution_count": 8,
   "id": "98a80fab-ac08-4c86-bc0f-3bd75dd88468",
   "metadata": {},
   "outputs": [],
   "source": [
    "inventory = []\n",
    "def add_book(title, author):\n",
    "    book = {\"title\": title, \"author\": author, \"available\": True, \"days_borrowed\": 0}\n",
    "    inventory.append(book)\n",
    "    print(f\"Book '{title}' added to inventory.\")\n",
    "def remove_book(title):\n",
    "    global inventory\n",
    "    inventory = [book for book in inventory if book[\"title\"] != title]\n",
    "    print(f\"Book '{title}' removed from inventory (if it existed).\")\n",
    "def display_inventory():\n",
    "    print(\"\\nCurrent Inventory:\")\n",
    "    if not inventory:\n",
    "        print(\"No books available.\")\n",
    "    else:\n",
    "        for book in inventory:\n",
    "            status = \"Available\" if book[\"available\"] else \"Borrowed\"\n",
    "            print(f\"Title: {book['title']}, Author: {book['author']}, Status: {status}\")"
   ]
  },
  {
   "cell_type": "code",
   "execution_count": 9,
   "id": "4336869c-0b4a-4728-b9d3-191b4a2a0b22",
   "metadata": {},
   "outputs": [],
   "source": [
    "import math\n",
    "def borrow_book(title, days_borrowed):\n",
    "    for book in inventory:\n",
    "        if book[\"title\"].lower() == title.lower() and book[\"available\"]:\n",
    "            book[\"available\"] = False\n",
    "            book[\"days_borrowed\"] = days_borrowed\n",
    "            print(f\"You borrowed '{book['title']}' for {days_borrowed} days.\")\n",
    "            return\n",
    "    print(f\"Book '{title}' is not available.\")\n",
    "def return_book(title, days_late):\n",
    "    for book in inventory:\n",
    "        if book[\"title\"].lower() == title.lower() and not book[\"available\"]:\n",
    "            book[\"available\"] = True\n",
    "            fine = calculate_fine(days_late)\n",
    "            book[\"days_borrowed\"] = 0\n",
    "            print(f\"'{book['title']}' returned. Late by {days_late} days. Fine: Rs. {fine:.2f}\")\n",
    "            return\n",
    "    print(f\"Book '{title}' was not borrowed or does not exist.\")\n",
    "def check_availability(title):\n",
    "    for book in inventory:\n",
    "        if book[\"title\"].lower() == title.lower():\n",
    "            return book[\"available\"]\n",
    "    return False\n",
    "def calculate_fine(days_late):\n",
    "    if days_late <= 0:\n",
    "        return 0\n",
    "    return 10 * math.sqrt(days_late)"
   ]
  },
  {
   "cell_type": "code",
   "execution_count": 10,
   "id": "53ac3c6e-dc90-4464-9c3b-31f7a7b0f841",
   "metadata": {},
   "outputs": [
    {
     "name": "stdout",
     "output_type": "stream",
     "text": [
      "Book 'The Alchemist' added to inventory.\n",
      "Book '1984' added to inventory.\n",
      "Book 'Python Programming' added to inventory.\n",
      "\n",
      "Current Inventory:\n",
      "Title: The Alchemist, Author: Paulo Coelho, Status: Available\n",
      "Title: 1984, Author: George Orwell, Status: Available\n",
      "Title: Python Programming, Author: John Zelle, Status: Available\n",
      "You borrowed '1984' for 5 days.\n",
      "You borrowed 'Python Programming' for 10 days.\n",
      "\n",
      "Current Inventory:\n",
      "Title: The Alchemist, Author: Paulo Coelho, Status: Available\n",
      "Title: 1984, Author: George Orwell, Status: Borrowed\n",
      "Title: Python Programming, Author: John Zelle, Status: Borrowed\n",
      "'1984' returned. Late by 3 days. Fine: Rs. 17.32\n",
      "\n",
      "Current Inventory:\n",
      "Title: The Alchemist, Author: Paulo Coelho, Status: Available\n",
      "Title: 1984, Author: George Orwell, Status: Available\n",
      "Title: Python Programming, Author: John Zelle, Status: Borrowed\n",
      "\n",
      "Overdue Books (filtered with lambda):\n",
      "Python Programming\n",
      "\n",
      "Borrowed Books Report (via list comprehension):\n",
      "- Python Programming\n"
     ]
    }
   ],
   "source": [
    "add_book(\"The Alchemist\", \"Paulo Coelho\")\n",
    "add_book(\"1984\", \"George Orwell\")\n",
    "add_book(\"Python Programming\", \"John Zelle\")\n",
    "display_inventory()\n",
    "borrow_book(\"1984\", 5)\n",
    "borrow_book(\"Python Programming\", 10)\n",
    "display_inventory()\n",
    "return_book(\"1984\", 3)\n",
    "display_inventory()\n",
    "overdue_books = list(filter(lambda b: not b[\"available\"] and b[\"days_borrowed\"] > 7, inventory))\n",
    "print(\"\\nOverdue Books (filtered with lambda):\")\n",
    "for b in overdue_books:\n",
    "    print(b[\"title\"])\n",
    "borrowed_books = [b[\"title\"] for b in inventory if not b[\"available\"]]\n",
    "print(\"\\nBorrowed Books Report (via list comprehension):\")\n",
    "if borrowed_books:\n",
    "    for title in borrowed_books:\n",
    "        print(f\"- {title}\")\n",
    "else:\n",
    "    print(\"No books currently borrowed.\")"
   ]
  },
  {
   "cell_type": "markdown",
   "id": "792584d3-9f83-4e2b-b820-fa7bdb8fe415",
   "metadata": {},
   "source": [
    "### Scenario 4"
   ]
  },
  {
   "cell_type": "code",
   "execution_count": 11,
   "id": "31b29f42-3991-4930-ab05-05f5dbd3c3d1",
   "metadata": {},
   "outputs": [
    {
     "name": "stdout",
     "output_type": "stream",
     "text": [
      "Total: 15\n",
      "Product: 120\n",
      "Average: 3.0\n"
     ]
    }
   ],
   "source": [
    "def perform_operations(numbers):\n",
    "    total = 0\n",
    "    product = 1\n",
    "    for num in numbers:\n",
    "        total += num\n",
    "        product *= num\n",
    "    average = total / len(numbers)\n",
    "    print(f\"Total: {total}\")\n",
    "    print(f\"Product: {product}\")\n",
    "    print(f\"Average: {average}\")\n",
    "numbers = [1, 2, 3, 4, 5]\n",
    "perform_operations(numbers)\n"
   ]
  }
 ],
 "metadata": {
  "kernelspec": {
   "display_name": "Python 3 (ipykernel)",
   "language": "python",
   "name": "python3"
  },
  "language_info": {
   "codemirror_mode": {
    "name": "ipython",
    "version": 3
   },
   "file_extension": ".py",
   "mimetype": "text/x-python",
   "name": "python",
   "nbconvert_exporter": "python",
   "pygments_lexer": "ipython3",
   "version": "3.13.5"
  }
 },
 "nbformat": 4,
 "nbformat_minor": 5
}
